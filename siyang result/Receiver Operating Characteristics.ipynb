{
 "cells": [
  {
   "cell_type": "code",
   "execution_count": 1,
   "metadata": {},
   "outputs": [],
   "source": [
    "import pandas as pd"
   ]
  },
  {
   "cell_type": "code",
   "execution_count": 2,
   "metadata": {},
   "outputs": [
    {
     "name": "stdout",
     "output_type": "stream",
     "text": [
      "Receiver Operating Characteristics.ipynb\r\n",
      "export-2019-06-10T04-15-16.905Z.csv\r\n",
      "heat maps.ipynb\r\n",
      "heat_maps_colab.ipynb\r\n",
      "siyang.csv\r\n",
      "siyang_90p.csv\r\n"
     ]
    }
   ],
   "source": [
    "!ls"
   ]
  },
  {
   "cell_type": "code",
   "execution_count": 3,
   "metadata": {},
   "outputs": [],
   "source": [
    "data = pd.read_csv('export-2019-06-10T04-15-16.905Z.csv', header=None)"
   ]
  },
  {
   "cell_type": "code",
   "execution_count": 4,
   "metadata": {},
   "outputs": [
    {
     "data": {
      "text/html": [
       "<div>\n",
       "<style scoped>\n",
       "    .dataframe tbody tr th:only-of-type {\n",
       "        vertical-align: middle;\n",
       "    }\n",
       "\n",
       "    .dataframe tbody tr th {\n",
       "        vertical-align: top;\n",
       "    }\n",
       "\n",
       "    .dataframe thead th {\n",
       "        text-align: right;\n",
       "    }\n",
       "</style>\n",
       "<table border=\"1\" class=\"dataframe\">\n",
       "  <thead>\n",
       "    <tr style=\"text-align: right;\">\n",
       "      <th></th>\n",
       "      <th>0</th>\n",
       "      <th>1</th>\n",
       "      <th>2</th>\n",
       "      <th>3</th>\n",
       "      <th>4</th>\n",
       "      <th>5</th>\n",
       "      <th>6</th>\n",
       "      <th>7</th>\n",
       "      <th>8</th>\n",
       "      <th>9</th>\n",
       "      <th>10</th>\n",
       "      <th>11</th>\n",
       "      <th>12</th>\n",
       "      <th>13</th>\n",
       "      <th>14</th>\n",
       "      <th>15</th>\n",
       "      <th>16</th>\n",
       "    </tr>\n",
       "  </thead>\n",
       "  <tbody>\n",
       "    <tr>\n",
       "      <th>0</th>\n",
       "      <td>ID</td>\n",
       "      <td>DataRow ID</td>\n",
       "      <td>Labeled Data</td>\n",
       "      <td>Label</td>\n",
       "      <td>Created By</td>\n",
       "      <td>Project Name</td>\n",
       "      <td>Created At</td>\n",
       "      <td>Updated At</td>\n",
       "      <td>Seconds to Label</td>\n",
       "      <td>External ID</td>\n",
       "      <td>Agreement</td>\n",
       "      <td>Benchmark Agreement</td>\n",
       "      <td>Benchmark ID</td>\n",
       "      <td>Benchmark Reference ID</td>\n",
       "      <td>Dataset Name</td>\n",
       "      <td>Reviews</td>\n",
       "      <td>View Label</td>\n",
       "    </tr>\n",
       "    <tr>\n",
       "      <th>1</th>\n",
       "      <td>cju91wr9i8hhe08175uuqgkrn</td>\n",
       "      <td>cju901nv2jwqs0bqp6e1ayhv7</td>\n",
       "      <td>https://storage.googleapis.com/labelbox-193903...</td>\n",
       "      <td>{\"click_if_text_visible\":\"exit_sign_is_visible\"}</td>\n",
       "      <td>manduchi@soe.ucsc.edu</td>\n",
       "      <td>Text spotting experiment</td>\n",
       "      <td>1554769991000</td>\n",
       "      <td>1554769991000</td>\n",
       "      <td>9.514</td>\n",
       "      <td>0.jpg</td>\n",
       "      <td>NaN</td>\n",
       "      <td>NaN</td>\n",
       "      <td>NaN</td>\n",
       "      <td>NaN</td>\n",
       "      <td>Text spotting experiment 2018</td>\n",
       "      <td>[]</td>\n",
       "      <td>https://image-segmentation-v4.labelbox.com?pro...</td>\n",
       "    </tr>\n",
       "    <tr>\n",
       "      <th>2</th>\n",
       "      <td>cju91wuy08s8208711ndijlhu</td>\n",
       "      <td>cju901nv2jwqw0bqpixoh0x04</td>\n",
       "      <td>https://storage.googleapis.com/labelbox-193903...</td>\n",
       "      <td>{\"click_if_text_visible\":\"exit_sign_is_visible\"}</td>\n",
       "      <td>manduchi@soe.ucsc.edu</td>\n",
       "      <td>Text spotting experiment</td>\n",
       "      <td>1554769996000</td>\n",
       "      <td>1554769996000</td>\n",
       "      <td>4.597</td>\n",
       "      <td>1.jpg</td>\n",
       "      <td>NaN</td>\n",
       "      <td>NaN</td>\n",
       "      <td>NaN</td>\n",
       "      <td>NaN</td>\n",
       "      <td>Text spotting experiment 2018</td>\n",
       "      <td>[]</td>\n",
       "      <td>https://image-segmentation-v4.labelbox.com?pro...</td>\n",
       "    </tr>\n",
       "    <tr>\n",
       "      <th>3</th>\n",
       "      <td>cju91wxgz8l8j0850ni5hnw6u</td>\n",
       "      <td>cju901nv2jwr00bqpmw2ruug3</td>\n",
       "      <td>https://storage.googleapis.com/labelbox-193903...</td>\n",
       "      <td>{\"click_if_text_visible\":\"exit_sign_is_visible\"}</td>\n",
       "      <td>manduchi@soe.ucsc.edu</td>\n",
       "      <td>Text spotting experiment</td>\n",
       "      <td>1554769999000</td>\n",
       "      <td>1554769999000</td>\n",
       "      <td>3.055</td>\n",
       "      <td>2.jpg</td>\n",
       "      <td>NaN</td>\n",
       "      <td>NaN</td>\n",
       "      <td>NaN</td>\n",
       "      <td>NaN</td>\n",
       "      <td>Text spotting experiment 2018</td>\n",
       "      <td>[]</td>\n",
       "      <td>https://image-segmentation-v4.labelbox.com?pro...</td>\n",
       "    </tr>\n",
       "    <tr>\n",
       "      <th>4</th>\n",
       "      <td>cju91x0v98kfx07553osj40p5</td>\n",
       "      <td>cju901nv2jwr40bqp1k4rr2p3</td>\n",
       "      <td>https://storage.googleapis.com/labelbox-193903...</td>\n",
       "      <td>{\"click_if_text_visible\":\"some_text_is_visible\"}</td>\n",
       "      <td>manduchi@soe.ucsc.edu</td>\n",
       "      <td>Text spotting experiment</td>\n",
       "      <td>1554770004000</td>\n",
       "      <td>1554770004000</td>\n",
       "      <td>4.229</td>\n",
       "      <td>10.jpg</td>\n",
       "      <td>NaN</td>\n",
       "      <td>NaN</td>\n",
       "      <td>NaN</td>\n",
       "      <td>NaN</td>\n",
       "      <td>Text spotting experiment 2018</td>\n",
       "      <td>[]</td>\n",
       "      <td>https://image-segmentation-v4.labelbox.com?pro...</td>\n",
       "    </tr>\n",
       "  </tbody>\n",
       "</table>\n",
       "</div>"
      ],
      "text/plain": [
       "                          0                          1   \\\n",
       "0                         ID                 DataRow ID   \n",
       "1  cju91wr9i8hhe08175uuqgkrn  cju901nv2jwqs0bqp6e1ayhv7   \n",
       "2  cju91wuy08s8208711ndijlhu  cju901nv2jwqw0bqpixoh0x04   \n",
       "3  cju91wxgz8l8j0850ni5hnw6u  cju901nv2jwr00bqpmw2ruug3   \n",
       "4  cju91x0v98kfx07553osj40p5  cju901nv2jwr40bqp1k4rr2p3   \n",
       "\n",
       "                                                  2   \\\n",
       "0                                       Labeled Data   \n",
       "1  https://storage.googleapis.com/labelbox-193903...   \n",
       "2  https://storage.googleapis.com/labelbox-193903...   \n",
       "3  https://storage.googleapis.com/labelbox-193903...   \n",
       "4  https://storage.googleapis.com/labelbox-193903...   \n",
       "\n",
       "                                                 3                      4   \\\n",
       "0                                             Label             Created By   \n",
       "1  {\"click_if_text_visible\":\"exit_sign_is_visible\"}  manduchi@soe.ucsc.edu   \n",
       "2  {\"click_if_text_visible\":\"exit_sign_is_visible\"}  manduchi@soe.ucsc.edu   \n",
       "3  {\"click_if_text_visible\":\"exit_sign_is_visible\"}  manduchi@soe.ucsc.edu   \n",
       "4  {\"click_if_text_visible\":\"some_text_is_visible\"}  manduchi@soe.ucsc.edu   \n",
       "\n",
       "                         5              6              7                 8   \\\n",
       "0              Project Name     Created At     Updated At  Seconds to Label   \n",
       "1  Text spotting experiment  1554769991000  1554769991000             9.514   \n",
       "2  Text spotting experiment  1554769996000  1554769996000             4.597   \n",
       "3  Text spotting experiment  1554769999000  1554769999000             3.055   \n",
       "4  Text spotting experiment  1554770004000  1554770004000             4.229   \n",
       "\n",
       "            9          10                   11            12  \\\n",
       "0  External ID  Agreement  Benchmark Agreement  Benchmark ID   \n",
       "1        0.jpg        NaN                  NaN           NaN   \n",
       "2        1.jpg        NaN                  NaN           NaN   \n",
       "3        2.jpg        NaN                  NaN           NaN   \n",
       "4       10.jpg        NaN                  NaN           NaN   \n",
       "\n",
       "                       13                             14       15  \\\n",
       "0  Benchmark Reference ID                   Dataset Name  Reviews   \n",
       "1                     NaN  Text spotting experiment 2018       []   \n",
       "2                     NaN  Text spotting experiment 2018       []   \n",
       "3                     NaN  Text spotting experiment 2018       []   \n",
       "4                     NaN  Text spotting experiment 2018       []   \n",
       "\n",
       "                                                  16  \n",
       "0                                         View Label  \n",
       "1  https://image-segmentation-v4.labelbox.com?pro...  \n",
       "2  https://image-segmentation-v4.labelbox.com?pro...  \n",
       "3  https://image-segmentation-v4.labelbox.com?pro...  \n",
       "4  https://image-segmentation-v4.labelbox.com?pro...  "
      ]
     },
     "execution_count": 4,
     "metadata": {},
     "output_type": "execute_result"
    }
   ],
   "source": [
    "data.head()"
   ]
  },
  {
   "cell_type": "code",
   "execution_count": 5,
   "metadata": {},
   "outputs": [
    {
     "data": {
      "text/plain": [
       "0                                               Label\n",
       "1    {\"click_if_text_visible\":\"exit_sign_is_visible\"}\n",
       "2    {\"click_if_text_visible\":\"exit_sign_is_visible\"}\n",
       "3    {\"click_if_text_visible\":\"exit_sign_is_visible\"}\n",
       "4    {\"click_if_text_visible\":\"some_text_is_visible\"}\n",
       "Name: 3, dtype: object"
      ]
     },
     "execution_count": 5,
     "metadata": {},
     "output_type": "execute_result"
    }
   ],
   "source": [
    "data[3].head()"
   ]
  },
  {
   "cell_type": "code",
   "execution_count": 6,
   "metadata": {},
   "outputs": [],
   "source": [
    "label = data[3]"
   ]
  },
  {
   "cell_type": "code",
   "execution_count": 7,
   "metadata": {},
   "outputs": [
    {
     "data": {
      "text/plain": [
       "count                                                  939\n",
       "unique                                                   8\n",
       "top       {\"click_if_text_visible\":\"some_text_is_visible\"}\n",
       "freq                                                   468\n",
       "Name: 3, dtype: object"
      ]
     },
     "execution_count": 7,
     "metadata": {},
     "output_type": "execute_result"
    }
   ],
   "source": [
    "label.describe()"
   ]
  },
  {
   "cell_type": "code",
   "execution_count": 8,
   "metadata": {},
   "outputs": [
    {
     "data": {
      "text/plain": [
       "array(['Label', '{\"click_if_text_visible\":\"exit_sign_is_visible\"}',\n",
       "       '{\"click_if_text_visible\":\"some_text_is_visible\"}', 'Skip',\n",
       "       '{\"click_if_text_visible\":\"no_text__or_exit_sign_visible\"}',\n",
       "       '{\"check_the_appropriate_button\":\"no_text__or_exit_sign_visible\"}',\n",
       "       '{\"check_the_appropriate_button\":\"exit_sign_is_visible\"}',\n",
       "       '{\"check_the_appropriate_button\":\"some_text_is_visible\"}'],\n",
       "      dtype=object)"
      ]
     },
     "execution_count": 8,
     "metadata": {},
     "output_type": "execute_result"
    }
   ],
   "source": [
    "label.unique()"
   ]
  },
  {
   "cell_type": "code",
   "execution_count": 9,
   "metadata": {},
   "outputs": [],
   "source": [
    "image = data[9]"
   ]
  },
  {
   "cell_type": "code",
   "execution_count": 10,
   "metadata": {},
   "outputs": [
    {
     "data": {
      "text/plain": [
       "0    External ID\n",
       "1          0.jpg\n",
       "2          1.jpg\n",
       "3          2.jpg\n",
       "4         10.jpg\n",
       "Name: 9, dtype: object"
      ]
     },
     "execution_count": 10,
     "metadata": {},
     "output_type": "execute_result"
    }
   ],
   "source": [
    "image.head() "
   ]
  },
  {
   "cell_type": "code",
   "execution_count": 11,
   "metadata": {},
   "outputs": [],
   "source": [
    "ground_truth={}\n",
    "for i in range(1,939):\n",
    "    ground_truth[image[i]] = label[i]\n"
   ]
  },
  {
   "cell_type": "code",
   "execution_count": 12,
   "metadata": {},
   "outputs": [],
   "source": [
    "# ground_truth"
   ]
  },
  {
   "cell_type": "code",
   "execution_count": null,
   "metadata": {},
   "outputs": [],
   "source": []
  },
  {
   "cell_type": "code",
   "execution_count": 13,
   "metadata": {},
   "outputs": [],
   "source": [
    "siyangdata = pd.read_csv('siyang.csv', header=None)"
   ]
  },
  {
   "cell_type": "code",
   "execution_count": 14,
   "metadata": {},
   "outputs": [
    {
     "data": {
      "text/html": [
       "<div>\n",
       "<style scoped>\n",
       "    .dataframe tbody tr th:only-of-type {\n",
       "        vertical-align: middle;\n",
       "    }\n",
       "\n",
       "    .dataframe tbody tr th {\n",
       "        vertical-align: top;\n",
       "    }\n",
       "\n",
       "    .dataframe thead th {\n",
       "        text-align: right;\n",
       "    }\n",
       "</style>\n",
       "<table border=\"1\" class=\"dataframe\">\n",
       "  <thead>\n",
       "    <tr style=\"text-align: right;\">\n",
       "      <th></th>\n",
       "      <th>1</th>\n",
       "    </tr>\n",
       "  </thead>\n",
       "  <tbody>\n",
       "    <tr>\n",
       "      <th>count</th>\n",
       "      <td>552.000000</td>\n",
       "    </tr>\n",
       "    <tr>\n",
       "      <th>mean</th>\n",
       "      <td>12.556159</td>\n",
       "    </tr>\n",
       "    <tr>\n",
       "      <th>std</th>\n",
       "      <td>20.406854</td>\n",
       "    </tr>\n",
       "    <tr>\n",
       "      <th>min</th>\n",
       "      <td>0.000000</td>\n",
       "    </tr>\n",
       "    <tr>\n",
       "      <th>25%</th>\n",
       "      <td>0.000000</td>\n",
       "    </tr>\n",
       "    <tr>\n",
       "      <th>50%</th>\n",
       "      <td>0.000000</td>\n",
       "    </tr>\n",
       "    <tr>\n",
       "      <th>75%</th>\n",
       "      <td>16.000000</td>\n",
       "    </tr>\n",
       "    <tr>\n",
       "      <th>max</th>\n",
       "      <td>160.000000</td>\n",
       "    </tr>\n",
       "  </tbody>\n",
       "</table>\n",
       "</div>"
      ],
      "text/plain": [
       "                1\n",
       "count  552.000000\n",
       "mean    12.556159\n",
       "std     20.406854\n",
       "min      0.000000\n",
       "25%      0.000000\n",
       "50%      0.000000\n",
       "75%     16.000000\n",
       "max    160.000000"
      ]
     },
     "execution_count": 14,
     "metadata": {},
     "output_type": "execute_result"
    }
   ],
   "source": [
    "siyangdata.describe()"
   ]
  },
  {
   "cell_type": "code",
   "execution_count": 15,
   "metadata": {},
   "outputs": [],
   "source": [
    "image = siyangdata[0]\n",
    "siyangresult = siyangdata[1]"
   ]
  },
  {
   "cell_type": "code",
   "execution_count": 24,
   "metadata": {},
   "outputs": [],
   "source": [
    "siyang={}\n",
    "for i in range(1,len(siyangdata)):\n",
    "    siyang[image[i]] = siyangresult[i]"
   ]
  },
  {
   "cell_type": "markdown",
   "metadata": {},
   "source": [
    "# Intersection of Siyang_image and Ground_truth"
   ]
  },
  {
   "cell_type": "code",
   "execution_count": 17,
   "metadata": {},
   "outputs": [],
   "source": [
    "siyangdata_name =siyangdata[0]\n",
    "siyangdata_name = [int(w.replace('.jpg','')) for w in siyangdata_name]\n",
    "siyangdata_name.sort()"
   ]
  },
  {
   "cell_type": "code",
   "execution_count": 18,
   "metadata": {},
   "outputs": [],
   "source": [
    "ground_truth_name = data[9]\n",
    "ground_truth_name= ground_truth_name.drop([0])\n",
    "ground_truth_name = [int(w.replace('.jpg','')) for w in ground_truth_name]\n",
    "ground_truth_name.sort()"
   ]
  },
  {
   "cell_type": "code",
   "execution_count": 19,
   "metadata": {},
   "outputs": [],
   "source": [
    "intersection =set(siyangdata_name).intersection(set(ground_truth_name))"
   ]
  },
  {
   "cell_type": "code",
   "execution_count": 20,
   "metadata": {},
   "outputs": [],
   "source": [
    "intersection_siyang_ground_truth = list(intersection)"
   ]
  },
  {
   "cell_type": "code",
   "execution_count": 21,
   "metadata": {},
   "outputs": [],
   "source": [
    "intersection_siyang_ground_truth =[str(str(w)+ '.jpg') for w in intersection_siyang_ground_truth]"
   ]
  },
  {
   "cell_type": "code",
   "execution_count": 22,
   "metadata": {},
   "outputs": [
    {
     "data": {
      "text/plain": [
       "552"
      ]
     },
     "execution_count": 22,
     "metadata": {},
     "output_type": "execute_result"
    }
   ],
   "source": [
    "len(intersection_siyang_ground_truth)"
   ]
  },
  {
   "cell_type": "markdown",
   "metadata": {},
   "source": [
    "# ROC for siyang"
   ]
  },
  {
   "cell_type": "markdown",
   "metadata": {},
   "source": [
    " For each image, if the largest connected component is larger than N, then it found text in the image (N here is a parameter). You compute the TPR and FPR for that value of N. You can thus create a ROC curve with the TPR vs FPR values as N changes from 1 to 500 (you will have 500 points on the curve). After you generate the curve, you are done. \n"
   ]
  },
  {
   "cell_type": "code",
   "execution_count": 33,
   "metadata": {},
   "outputs": [],
   "source": [
    "FPR_S = []\n",
    "TPR_S = []\n",
    "for N in range(1,162):\n",
    "    F =[]\n",
    "    T =[]\n",
    "    for i in intersection_siyang_ground_truth:\n",
    "        c = siyang.get(i)\n",
    "        if c != None:\n",
    "            if c >= N and ground_truth.get(i) == 'Skip':\n",
    "                F.append(i)   \n",
    "            if c >= N and ground_truth.get(i) != 'Skip':\n",
    "                T.append(i) \n",
    "        FPR = len(set(F))\n",
    "        TPR = len(set(T))\n",
    "    FPR_S.append(FPR)\n",
    "    TPR_S.append(TPR)\n",
    "        "
   ]
  },
  {
   "cell_type": "code",
   "execution_count": null,
   "metadata": {},
   "outputs": [],
   "source": [
    "'''\n",
    "        if siyang.get(i) >= N and ground_truth.get(i) == 'Skip':\n",
    "            F.append(i)   \n",
    "        if siyang.get(i) >= N and ground_truth.get(i) != 'Skip':\n",
    "            T.append(i) \n",
    "        FPR = len(set(F))\n",
    "        TPR = len(set(T))\n",
    "    FPR_S.append(FPR)\n",
    "    TPR_S.append(TPR)''''"
   ]
  },
  {
   "cell_type": "code",
   "execution_count": 34,
   "metadata": {},
   "outputs": [
    {
     "name": "stdout",
     "output_type": "stream",
     "text": [
      "[1, 1, 1, 1, 1, 1, 1, 1, 1, 1, 1, 1, 1, 1, 1, 1, 1, 1, 1, 1, 1, 1, 1, 1, 0, 0, 0, 0, 0, 0, 0, 0, 0, 0, 0, 0, 0, 0, 0, 0, 0, 0, 0, 0, 0, 0, 0, 0, 0, 0, 0, 0, 0, 0, 0, 0, 0, 0, 0, 0, 0, 0, 0, 0, 0, 0, 0, 0, 0, 0, 0, 0, 0, 0, 0, 0, 0, 0, 0, 0, 0, 0, 0, 0, 0, 0, 0, 0, 0, 0, 0, 0, 0, 0, 0, 0, 0, 0, 0, 0, 0, 0, 0, 0, 0, 0, 0, 0, 0, 0, 0, 0, 0, 0, 0, 0, 0, 0, 0, 0, 0, 0, 0, 0, 0, 0, 0, 0, 0, 0, 0, 0, 0, 0, 0, 0, 0, 0, 0, 0, 0, 0, 0, 0, 0, 0, 0, 0, 0, 0, 0, 0, 0, 0, 0, 0, 0, 0, 0, 0, 0]\n"
     ]
    }
   ],
   "source": [
    "print(FPR_S)"
   ]
  },
  {
   "cell_type": "code",
   "execution_count": 35,
   "metadata": {},
   "outputs": [
    {
     "data": {
      "text/plain": [
       "24"
      ]
     },
     "execution_count": 35,
     "metadata": {},
     "output_type": "execute_result"
    }
   ],
   "source": [
    "FPR_S.count(1)"
   ]
  },
  {
   "cell_type": "code",
   "execution_count": 36,
   "metadata": {},
   "outputs": [
    {
     "name": "stdout",
     "output_type": "stream",
     "text": [
      "[273, 272, 267, 256, 247, 244, 241, 239, 209, 201, 196, 196, 196, 183, 183, 183, 134, 125, 123, 123, 123, 123, 123, 123, 99, 92, 90, 90, 88, 88, 88, 88, 61, 54, 52, 51, 51, 50, 50, 49, 44, 43, 43, 43, 43, 43, 43, 43, 31, 27, 26, 26, 26, 26, 26, 26, 24, 23, 21, 21, 21, 21, 21, 21, 17, 13, 13, 13, 13, 13, 13, 13, 9, 9, 9, 9, 9, 9, 9, 9, 8, 8, 8, 8, 8, 7, 7, 7, 6, 6, 6, 6, 6, 6, 6, 6, 5, 5, 5, 5, 5, 5, 5, 5, 4, 3, 3, 3, 3, 3, 3, 3, 3, 2, 2, 2, 2, 2, 2, 2, 2, 2, 2, 2, 2, 2, 2, 2, 2, 2, 2, 2, 2, 2, 2, 2, 2, 2, 2, 2, 2, 2, 2, 2, 1, 1, 1, 1, 1, 1, 1, 1, 1, 1, 1, 1, 1, 1, 1, 1, 0]\n"
     ]
    }
   ],
   "source": [
    "print(TPR_S)"
   ]
  },
  {
   "cell_type": "code",
   "execution_count": 37,
   "metadata": {},
   "outputs": [],
   "source": [
    "total = len(intersection_siyang_ground_truth)"
   ]
  },
  {
   "cell_type": "code",
   "execution_count": null,
   "metadata": {},
   "outputs": [],
   "source": []
  },
  {
   "cell_type": "code",
   "execution_count": 46,
   "metadata": {},
   "outputs": [
    {
     "name": "stdout",
     "output_type": "stream",
     "text": [
      "137.jpg Skip\n",
      "138.jpg Skip\n",
      "139.jpg Skip\n",
      "140.jpg Skip\n",
      "141.jpg Skip\n",
      "142.jpg Skip\n",
      "143.jpg Skip\n",
      "144.jpg Skip\n",
      "145.jpg Skip\n",
      "146.jpg Skip\n",
      "147.jpg Skip\n",
      "148.jpg Skip\n",
      "149.jpg Skip\n",
      "150.jpg Skip\n",
      "151.jpg Skip\n",
      "152.jpg Skip\n",
      "153.jpg Skip\n",
      "154.jpg Skip\n",
      "155.jpg Skip\n",
      "156.jpg Skip\n",
      "157.jpg Skip\n",
      "160.jpg Skip\n",
      "161.jpg Skip\n",
      "162.jpg Skip\n",
      "164.jpg Skip\n",
      "165.jpg Skip\n",
      "166.jpg Skip\n",
      "167.jpg Skip\n",
      "168.jpg Skip\n",
      "169.jpg Skip\n",
      "170.jpg Skip\n",
      "171.jpg Skip\n",
      "172.jpg Skip\n",
      "173.jpg Skip\n",
      "174.jpg Skip\n",
      "175.jpg Skip\n",
      "176.jpg Skip\n",
      "177.jpg Skip\n",
      "178.jpg Skip\n",
      "179.jpg Skip\n",
      "180.jpg Skip\n",
      "181.jpg Skip\n",
      "182.jpg Skip\n",
      "183.jpg Skip\n",
      "184.jpg Skip\n",
      "185.jpg Skip\n",
      "186.jpg Skip\n",
      "187.jpg Skip\n",
      "188.jpg Skip\n",
      "189.jpg Skip\n",
      "190.jpg Skip\n",
      "191.jpg Skip\n",
      "192.jpg Skip\n"
     ]
    }
   ],
   "source": [
    "skip = []\n",
    "for i in intersection_siyang_ground_truth:\n",
    "    if ground_truth.get(i) == 'Skip':\n",
    "        print(i,ground_truth.get(i))\n",
    "        skip.append(i)"
   ]
  },
  {
   "cell_type": "code",
   "execution_count": 54,
   "metadata": {},
   "outputs": [
    {
     "data": {
      "text/plain": [
       "53"
      ]
     },
     "execution_count": 54,
     "metadata": {},
     "output_type": "execute_result"
    }
   ],
   "source": [
    "len(skip)"
   ]
  },
  {
   "cell_type": "code",
   "execution_count": 57,
   "metadata": {},
   "outputs": [
    {
     "name": "stdout",
     "output_type": "stream",
     "text": [
      "0\n",
      "0\n",
      "0\n",
      "0\n",
      "0\n",
      "0\n",
      "0\n",
      "0\n",
      "0\n",
      "0\n",
      "0\n",
      "0\n",
      "0\n",
      "0\n",
      "0\n",
      "0\n",
      "0\n",
      "0\n",
      "0\n",
      "0\n",
      "0\n",
      "0\n",
      "0\n",
      "0\n",
      "0\n",
      "0\n",
      "24\n",
      "166.jpg\n",
      "0\n",
      "0\n",
      "0\n",
      "0\n",
      "0\n",
      "0\n",
      "0\n",
      "0\n",
      "0\n",
      "0\n",
      "0\n",
      "0\n",
      "0\n",
      "0\n",
      "0\n",
      "0\n",
      "0\n",
      "0\n",
      "0\n",
      "0\n",
      "0\n",
      "0\n",
      "0\n",
      "0\n",
      "0\n",
      "0\n"
     ]
    }
   ],
   "source": [
    "for i in skip:\n",
    "    print(siyang.get(i))\n",
    "    if siyang.get(i) != 0: print(i)"
   ]
  },
  {
   "cell_type": "code",
   "execution_count": 39,
   "metadata": {},
   "outputs": [],
   "source": [
    "#siyang.get('166.jpg')"
   ]
  },
  {
   "cell_type": "code",
   "execution_count": null,
   "metadata": {},
   "outputs": [],
   "source": []
  },
  {
   "cell_type": "code",
   "execution_count": 40,
   "metadata": {
    "scrolled": true
   },
   "outputs": [],
   "source": [
    "#for i in intersection_siyang_ground_truth:\n",
    "    #print(i,ground_truth.get(i))"
   ]
  },
  {
   "cell_type": "code",
   "execution_count": 49,
   "metadata": {},
   "outputs": [],
   "source": [
    "F_n = [x / total for x in FPR_S]\n",
    "T_n = [x / total for x in TPR_S]"
   ]
  },
  {
   "cell_type": "code",
   "execution_count": 50,
   "metadata": {},
   "outputs": [
    {
     "data": {
      "text/plain": [
       "[0.0018115942028985507,\n",
       " 0.0018115942028985507,\n",
       " 0.0018115942028985507,\n",
       " 0.0018115942028985507,\n",
       " 0.0018115942028985507,\n",
       " 0.0018115942028985507,\n",
       " 0.0018115942028985507,\n",
       " 0.0018115942028985507,\n",
       " 0.0018115942028985507,\n",
       " 0.0018115942028985507,\n",
       " 0.0018115942028985507,\n",
       " 0.0018115942028985507,\n",
       " 0.0018115942028985507,\n",
       " 0.0018115942028985507,\n",
       " 0.0018115942028985507,\n",
       " 0.0018115942028985507,\n",
       " 0.0018115942028985507,\n",
       " 0.0018115942028985507,\n",
       " 0.0018115942028985507,\n",
       " 0.0018115942028985507,\n",
       " 0.0018115942028985507,\n",
       " 0.0018115942028985507,\n",
       " 0.0018115942028985507,\n",
       " 0.0018115942028985507,\n",
       " 0.0,\n",
       " 0.0,\n",
       " 0.0,\n",
       " 0.0,\n",
       " 0.0,\n",
       " 0.0,\n",
       " 0.0,\n",
       " 0.0,\n",
       " 0.0,\n",
       " 0.0,\n",
       " 0.0,\n",
       " 0.0,\n",
       " 0.0,\n",
       " 0.0,\n",
       " 0.0,\n",
       " 0.0,\n",
       " 0.0,\n",
       " 0.0,\n",
       " 0.0,\n",
       " 0.0,\n",
       " 0.0,\n",
       " 0.0,\n",
       " 0.0,\n",
       " 0.0,\n",
       " 0.0,\n",
       " 0.0,\n",
       " 0.0,\n",
       " 0.0,\n",
       " 0.0,\n",
       " 0.0,\n",
       " 0.0,\n",
       " 0.0,\n",
       " 0.0,\n",
       " 0.0,\n",
       " 0.0,\n",
       " 0.0,\n",
       " 0.0,\n",
       " 0.0,\n",
       " 0.0,\n",
       " 0.0,\n",
       " 0.0,\n",
       " 0.0,\n",
       " 0.0,\n",
       " 0.0,\n",
       " 0.0,\n",
       " 0.0,\n",
       " 0.0,\n",
       " 0.0,\n",
       " 0.0,\n",
       " 0.0,\n",
       " 0.0,\n",
       " 0.0,\n",
       " 0.0,\n",
       " 0.0,\n",
       " 0.0,\n",
       " 0.0,\n",
       " 0.0,\n",
       " 0.0,\n",
       " 0.0,\n",
       " 0.0,\n",
       " 0.0,\n",
       " 0.0,\n",
       " 0.0,\n",
       " 0.0,\n",
       " 0.0,\n",
       " 0.0,\n",
       " 0.0,\n",
       " 0.0,\n",
       " 0.0,\n",
       " 0.0,\n",
       " 0.0,\n",
       " 0.0,\n",
       " 0.0,\n",
       " 0.0,\n",
       " 0.0,\n",
       " 0.0,\n",
       " 0.0,\n",
       " 0.0,\n",
       " 0.0,\n",
       " 0.0,\n",
       " 0.0,\n",
       " 0.0,\n",
       " 0.0,\n",
       " 0.0,\n",
       " 0.0,\n",
       " 0.0,\n",
       " 0.0,\n",
       " 0.0,\n",
       " 0.0,\n",
       " 0.0,\n",
       " 0.0,\n",
       " 0.0,\n",
       " 0.0,\n",
       " 0.0,\n",
       " 0.0,\n",
       " 0.0,\n",
       " 0.0,\n",
       " 0.0,\n",
       " 0.0,\n",
       " 0.0,\n",
       " 0.0,\n",
       " 0.0,\n",
       " 0.0,\n",
       " 0.0,\n",
       " 0.0,\n",
       " 0.0,\n",
       " 0.0,\n",
       " 0.0,\n",
       " 0.0,\n",
       " 0.0,\n",
       " 0.0,\n",
       " 0.0,\n",
       " 0.0,\n",
       " 0.0,\n",
       " 0.0,\n",
       " 0.0,\n",
       " 0.0,\n",
       " 0.0,\n",
       " 0.0,\n",
       " 0.0,\n",
       " 0.0,\n",
       " 0.0,\n",
       " 0.0,\n",
       " 0.0,\n",
       " 0.0,\n",
       " 0.0,\n",
       " 0.0,\n",
       " 0.0,\n",
       " 0.0,\n",
       " 0.0,\n",
       " 0.0,\n",
       " 0.0,\n",
       " 0.0,\n",
       " 0.0,\n",
       " 0.0,\n",
       " 0.0,\n",
       " 0.0]"
      ]
     },
     "execution_count": 50,
     "metadata": {},
     "output_type": "execute_result"
    }
   ],
   "source": [
    "F_n"
   ]
  },
  {
   "cell_type": "code",
   "execution_count": 51,
   "metadata": {},
   "outputs": [],
   "source": [
    "import seaborn as sns\n",
    "from scipy import stats\n",
    "sns.set(color_codes=True)"
   ]
  },
  {
   "cell_type": "code",
   "execution_count": 52,
   "metadata": {},
   "outputs": [
    {
     "data": {
      "text/plain": [
       "<matplotlib.axes._subplots.AxesSubplot at 0x10aa0c400>"
      ]
     },
     "execution_count": 52,
     "metadata": {},
     "output_type": "execute_result"
    },
    {
     "data": {
      "image/png": "[encoded data removed]",
      "text/plain": [
       "<Figure size 432x288 with 1 Axes>"
      ]
     },
     "metadata": {},
     "output_type": "display_data"
    }
   ],
   "source": [
    "sns.distplot(siyangresult)"
   ]
  },
  {
   "cell_type": "code",
   "execution_count": null,
   "metadata": {},
   "outputs": [],
   "source": []
  },
  {
   "cell_type": "code",
   "execution_count": null,
   "metadata": {},
   "outputs": [],
   "source": []
  },
  {
   "cell_type": "code",
   "execution_count": 56,
   "metadata": {},
   "outputs": [
    {
     "data": {
      "image/png": "[encoded data removed]",
      "text/plain": [
       "<Figure size 432x288 with 1 Axes>"
      ]
     },
     "metadata": {
      "needs_background": "light"
     },
     "output_type": "display_data"
    }
   ],
   "source": [
    "import numpy as np\n",
    "import matplotlib.pyplot as plt\n",
    "%matplotlib inline\n",
    "x = F_n\n",
    "y = T_n\n",
    "plt.plot(x, y) \n",
    "plt.xlabel('false positive rate')\n",
    "plt.ylabel('true positive rate')\n",
    "plt.ylim(0,1)\n",
    "plt.show()"
   ]
  },
  {
   "cell_type": "code",
   "execution_count": null,
   "metadata": {},
   "outputs": [],
   "source": []
  },
  {
   "cell_type": "code",
   "execution_count": null,
   "metadata": {},
   "outputs": [],
   "source": [
    "import csv\n",
    "\n",
    "\n",
    "w = csv.writer(open(\"siyang_intersection\", \"w\"))\n",
    "for key, val in siyang.items():\n",
    "    w.writerow([key, val])\n",
    "\n",
    "\n"
   ]
  }
 ],
 "metadata": {
  "kernelspec": {
   "display_name": "Python 3",
   "language": "python",
   "name": "python3"
  },
  "language_info": {
   "codemirror_mode": {
    "name": "ipython",
    "version": 3
   },
   "file_extension": ".py",
   "mimetype": "text/x-python",
   "name": "python",
   "nbconvert_exporter": "python",
   "pygments_lexer": "ipython3",
   "version": "3.7.1"
  }
 },
 "nbformat": 4,
 "nbformat_minor": 2
}
