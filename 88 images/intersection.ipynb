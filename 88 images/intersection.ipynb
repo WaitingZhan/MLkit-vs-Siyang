{
 "cells": [
  {
   "cell_type": "code",
   "execution_count": 16,
   "metadata": {},
   "outputs": [],
   "source": [
    "import pandas as pd"
   ]
  },
  {
   "cell_type": "code",
   "execution_count": 17,
   "metadata": {},
   "outputs": [
    {
     "name": "stdout",
     "output_type": "stream",
     "text": [
      "Intersection.csv                    intersection.ipynb\r\n",
      "export-2019-06-10T04-15-16.905Z.csv\r\n"
     ]
    }
   ],
   "source": [
    "!ls"
   ]
  },
  {
   "cell_type": "code",
   "execution_count": 18,
   "metadata": {},
   "outputs": [],
   "source": [
    "Intersection = pd.read_csv('Intersection.csv', header=None)"
   ]
  },
  {
   "cell_type": "code",
   "execution_count": 19,
   "metadata": {},
   "outputs": [],
   "source": [
    "ground_truth = data = pd.read_csv('export-2019-06-10T04-15-16.905Z.csv', header=None)"
   ]
  },
  {
   "cell_type": "code",
   "execution_count": 20,
   "metadata": {},
   "outputs": [],
   "source": [
    "ground_truth_name =ground_truth [9]"
   ]
  },
  {
   "cell_type": "code",
   "execution_count": 21,
   "metadata": {},
   "outputs": [],
   "source": [
    "ground_truth_name = ground_truth_name.drop(0)"
   ]
  },
  {
   "cell_type": "code",
   "execution_count": 22,
   "metadata": {},
   "outputs": [
    {
     "data": {
      "text/plain": [
       "1     0.jpg\n",
       "2     1.jpg\n",
       "3     2.jpg\n",
       "4    10.jpg\n",
       "5    11.jpg\n",
       "Name: 9, dtype: object"
      ]
     },
     "execution_count": 22,
     "metadata": {},
     "output_type": "execute_result"
    }
   ],
   "source": [
    "ground_truth_name.head()"
   ]
  },
  {
   "cell_type": "code",
   "execution_count": 23,
   "metadata": {},
   "outputs": [],
   "source": [
    "Intersection_name =Intersection[0]"
   ]
  },
  {
   "cell_type": "code",
   "execution_count": 24,
   "metadata": {},
   "outputs": [
    {
     "data": {
      "text/plain": [
       "0        1.jpg\n",
       "1       10.jpg\n",
       "2      100.jpg\n",
       "3     1000.jpg\n",
       "4    10000.jpg\n",
       "Name: 0, dtype: object"
      ]
     },
     "execution_count": 24,
     "metadata": {},
     "output_type": "execute_result"
    }
   ],
   "source": [
    "Intersection_name.head()"
   ]
  },
  {
   "cell_type": "code",
   "execution_count": 27,
   "metadata": {},
   "outputs": [
    {
     "data": {
      "text/plain": [
       "0       1137.jpg\n",
       "1       1698.jpg\n",
       "2      10061.jpg\n",
       "3        141.jpg\n",
       "4       1084.jpg\n",
       "5       1678.jpg\n",
       "6       1092.jpg\n",
       "7       1733.jpg\n",
       "8       1722.jpg\n",
       "9      10042.jpg\n",
       "10      1662.jpg\n",
       "11       104.jpg\n",
       "12       167.jpg\n",
       "13      1660.jpg\n",
       "14      1781.jpg\n",
       "15       142.jpg\n",
       "16      1707.jpg\n",
       "17      1109.jpg\n",
       "18      1526.jpg\n",
       "19       121.jpg\n",
       "20       140.jpg\n",
       "21     10004.jpg\n",
       "22       102.jpg\n",
       "23        16.jpg\n",
       "24       106.jpg\n",
       "25      1074.jpg\n",
       "26     10024.jpg\n",
       "27      1512.jpg\n",
       "28      1720.jpg\n",
       "29      1767.jpg\n",
       "         ...    \n",
       "522      166.jpg\n",
       "523      134.jpg\n",
       "524     1779.jpg\n",
       "525     1020.jpg\n",
       "526    10052.jpg\n",
       "527     1776.jpg\n",
       "528     1091.jpg\n",
       "529     1031.jpg\n",
       "530      115.jpg\n",
       "531      105.jpg\n",
       "532     1747.jpg\n",
       "533     1715.jpg\n",
       "534     1705.jpg\n",
       "535    10033.jpg\n",
       "536      147.jpg\n",
       "537     1709.jpg\n",
       "538     1804.jpg\n",
       "539     1112.jpg\n",
       "540     1540.jpg\n",
       "541     1095.jpg\n",
       "542     1524.jpg\n",
       "543     1780.jpg\n",
       "544     1744.jpg\n",
       "545     1575.jpg\n",
       "546     1746.jpg\n",
       "547     1729.jpg\n",
       "548      181.jpg\n",
       "549     1508.jpg\n",
       "550    10010.jpg\n",
       "551     1806.jpg\n",
       "Length: 552, dtype: object"
      ]
     },
     "execution_count": 27,
     "metadata": {},
     "output_type": "execute_result"
    }
   ],
   "source": [
    "pd.Series(list(set(ground_truth_name) & set(Intersection_name)))"
   ]
  },
  {
   "cell_type": "code",
   "execution_count": 28,
   "metadata": {},
   "outputs": [],
   "source": [
    "siyangdata = pd.read_csv('siyang.csv', header=None)\n",
    "siyangdata_name =siyangdata[0]"
   ]
  },
  {
   "cell_type": "code",
   "execution_count": 36,
   "metadata": {},
   "outputs": [],
   "source": [
    "c = pd.Series(list(set(siyangdata_name) & set(Intersection_name)))"
   ]
  },
  {
   "cell_type": "code",
   "execution_count": 38,
   "metadata": {},
   "outputs": [
    {
     "data": {
      "text/plain": [
       "3       1000.jpg\n",
       "4      10000.jpg\n",
       "5      10001.jpg\n",
       "6      10002.jpg\n",
       "7      10003.jpg\n",
       "8      10004.jpg\n",
       "9      10007.jpg\n",
       "10     10009.jpg\n",
       "11      1001.jpg\n",
       "12     10010.jpg\n",
       "13     10012.jpg\n",
       "14     10013.jpg\n",
       "15     10015.jpg\n",
       "16     10016.jpg\n",
       "17     10018.jpg\n",
       "18      1002.jpg\n",
       "19     10020.jpg\n",
       "20     10021.jpg\n",
       "21     10023.jpg\n",
       "22     10024.jpg\n",
       "23     10026.jpg\n",
       "24     10027.jpg\n",
       "25     10028.jpg\n",
       "26     10029.jpg\n",
       "27      1003.jpg\n",
       "28     10030.jpg\n",
       "29     10031.jpg\n",
       "30     10032.jpg\n",
       "31     10033.jpg\n",
       "32     10034.jpg\n",
       "         ...    \n",
       "519     1791.jpg\n",
       "520     1792.jpg\n",
       "521     1793.jpg\n",
       "522     1794.jpg\n",
       "523     1795.jpg\n",
       "524     1796.jpg\n",
       "525     1797.jpg\n",
       "526     1798.jpg\n",
       "527     1799.jpg\n",
       "529      180.jpg\n",
       "530     1800.jpg\n",
       "531     1801.jpg\n",
       "532     1802.jpg\n",
       "533     1803.jpg\n",
       "534     1804.jpg\n",
       "535     1805.jpg\n",
       "536     1806.jpg\n",
       "537      181.jpg\n",
       "538      182.jpg\n",
       "539      183.jpg\n",
       "540      184.jpg\n",
       "541      185.jpg\n",
       "542      186.jpg\n",
       "543      187.jpg\n",
       "544      188.jpg\n",
       "545      189.jpg\n",
       "547      190.jpg\n",
       "548      191.jpg\n",
       "549      192.jpg\n",
       "550      193.jpg\n",
       "Length: 465, dtype: object"
      ]
     },
     "execution_count": 38,
     "metadata": {},
     "output_type": "execute_result"
    }
   ],
   "source": [
    "pd.concat([c,Intersection_name]).drop_duplicates(keep=False)"
   ]
  },
  {
   "cell_type": "code",
   "execution_count": null,
   "metadata": {},
   "outputs": [],
   "source": []
  }
 ],
 "metadata": {
  "kernelspec": {
   "display_name": "Python 3",
   "language": "python",
   "name": "python3"
  },
  "language_info": {
   "codemirror_mode": {
    "name": "ipython",
    "version": 3
   },
   "file_extension": ".py",
   "mimetype": "text/x-python",
   "name": "python",
   "nbconvert_exporter": "python",
   "pygments_lexer": "ipython3",
   "version": "3.7.1"
  }
 },
 "nbformat": 4,
 "nbformat_minor": 2
}
