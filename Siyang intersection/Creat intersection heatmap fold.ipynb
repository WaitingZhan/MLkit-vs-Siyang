{
 "cells": [
  {
   "cell_type": "code",
   "execution_count": 26,
   "metadata": {},
   "outputs": [],
   "source": [
    "import pandas as pd"
   ]
  },
  {
   "cell_type": "code",
   "execution_count": 27,
   "metadata": {},
   "outputs": [
    {
     "name": "stdout",
     "output_type": "stream",
     "text": [
      "Creat intersection heatmap fold.ipynb \u001b[34mheatmaps\u001b[m\u001b[m\r\n",
      "Intersection.csv                      \u001b[34mheatmaps intersection\u001b[m\u001b[m\r\n"
     ]
    }
   ],
   "source": [
    "!ls"
   ]
  },
  {
   "cell_type": "code",
   "execution_count": 28,
   "metadata": {},
   "outputs": [],
   "source": [
    "Intersection = pd.read_csv('Intersection.csv', header=None)"
   ]
  },
  {
   "cell_type": "code",
   "execution_count": 29,
   "metadata": {},
   "outputs": [],
   "source": [
    "Intersection = Intersection[0]"
   ]
  },
  {
   "cell_type": "code",
   "execution_count": 30,
   "metadata": {},
   "outputs": [
    {
     "data": {
      "text/plain": [
       "0          1.jpg\n",
       "1         10.jpg\n",
       "2        100.jpg\n",
       "3       1000.jpg\n",
       "4      10000.jpg\n",
       "5      10001.jpg\n",
       "6      10002.jpg\n",
       "7      10003.jpg\n",
       "8      10004.jpg\n",
       "9      10007.jpg\n",
       "10     10009.jpg\n",
       "11      1001.jpg\n",
       "12     10010.jpg\n",
       "13     10012.jpg\n",
       "14     10013.jpg\n",
       "15     10015.jpg\n",
       "16     10016.jpg\n",
       "17     10018.jpg\n",
       "18      1002.jpg\n",
       "19     10020.jpg\n",
       "20     10021.jpg\n",
       "21     10023.jpg\n",
       "22     10024.jpg\n",
       "23     10026.jpg\n",
       "24     10027.jpg\n",
       "25     10028.jpg\n",
       "26     10029.jpg\n",
       "27      1003.jpg\n",
       "28     10030.jpg\n",
       "29     10031.jpg\n",
       "         ...    \n",
       "522     1794.jpg\n",
       "523     1795.jpg\n",
       "524     1796.jpg\n",
       "525     1797.jpg\n",
       "526     1798.jpg\n",
       "527     1799.jpg\n",
       "528       18.jpg\n",
       "529      180.jpg\n",
       "530     1800.jpg\n",
       "531     1801.jpg\n",
       "532     1802.jpg\n",
       "533     1803.jpg\n",
       "534     1804.jpg\n",
       "535     1805.jpg\n",
       "536     1806.jpg\n",
       "537      181.jpg\n",
       "538      182.jpg\n",
       "539      183.jpg\n",
       "540      184.jpg\n",
       "541      185.jpg\n",
       "542      186.jpg\n",
       "543      187.jpg\n",
       "544      188.jpg\n",
       "545      189.jpg\n",
       "546       19.jpg\n",
       "547      190.jpg\n",
       "548      191.jpg\n",
       "549      192.jpg\n",
       "550      193.jpg\n",
       "551      194.jpg\n",
       "Name: 0, Length: 552, dtype: object"
      ]
     },
     "execution_count": 30,
     "metadata": {},
     "output_type": "execute_result"
    }
   ],
   "source": [
    "Intersection"
   ]
  },
  {
   "cell_type": "code",
   "execution_count": 31,
   "metadata": {},
   "outputs": [],
   "source": [
    "import os\n",
    "import shutil"
   ]
  },
  {
   "cell_type": "code",
   "execution_count": 32,
   "metadata": {},
   "outputs": [],
   "source": [
    "for i in Intersection:\n",
    "    #print(i)\n",
    "    try:\n",
    "        os.rename(\"./heatmaps/\"+ str(i), \"./heatmaps intersection/\" + str(i))\n",
    "    except:\n",
    "        pass"
   ]
  },
  {
   "cell_type": "code",
   "execution_count": null,
   "metadata": {},
   "outputs": [],
   "source": []
  }
 ],
 "metadata": {
  "kernelspec": {
   "display_name": "Python 3",
   "language": "python",
   "name": "python3"
  },
  "language_info": {
   "codemirror_mode": {
    "name": "ipython",
    "version": 3
   },
   "file_extension": ".py",
   "mimetype": "text/x-python",
   "name": "python",
   "nbconvert_exporter": "python",
   "pygments_lexer": "ipython3",
   "version": "3.7.1"
  }
 },
 "nbformat": 4,
 "nbformat_minor": 2
}
